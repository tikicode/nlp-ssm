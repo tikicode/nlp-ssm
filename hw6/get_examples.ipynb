{
 "cells": [
  {
   "cell_type": "code",
   "execution_count": 1,
   "metadata": {},
   "outputs": [],
   "source": [
    "import json\n",
    "import random"
   ]
  },
  {
   "cell_type": "code",
   "execution_count": 12,
   "metadata": {},
   "outputs": [
    {
     "name": "stdout",
     "output_type": "stream",
     "text": [
      "15\n",
      "[{'question': 'can an ethernet cable be used for poe', 'answer': True}, {'question': 'is argentina the largest country in south america', 'answer': False}, {'question': 'is the gulf of mexico part of an ocean', 'answer': True}, {'question': 'is the sierra nevada part of the rocky mountains', 'answer': False}, {'question': 'does cleveland state university have a football team', 'answer': True}, {'question': 'is first round of hockey best of 5', 'answer': False}, {'question': \"is a mare's leg considered a pistol\", 'answer': True}, {'question': 'is dazed and confused based on a true story', 'answer': False}, {'question': 'is rise of the tomb raider connected to tomb raider', 'answer': True}, {'question': 'is the poseidon adventure movie based on a true story', 'answer': False}, {'question': \"do they find out that katherine is in elena's body\", 'answer': True}, {'question': 'is bahrain the smallest country in the world', 'answer': False}, {'question': 'can an analog signal be converted to digital', 'answer': True}, {'question': 'are sodium chloride and saline the same thing', 'answer': False}, {'question': 'has wayne rooney ever won the champions league', 'answer': True}, {'question': 'is there a season 2 of wits academy', 'answer': False}, {'question': 'is the new god of war ps4 exclusive', 'answer': True}, {'question': 'is the wall movie based on true story', 'answer': False}, {'question': 'can a car go the speed of sound', 'answer': True}, {'question': 'do all countries in eu use the euro', 'answer': False}, {'question': 'does a white blood cell have a nucleus', 'answer': True}, {'question': 'do ross and rachel end up getting married', 'answer': False}, {'question': 'can you have a delayed reaction to grief', 'answer': True}, {'question': 'is dark places based on a true story', 'answer': False}, {'question': 'is harry potter world at islands of adventure', 'answer': True}, {'question': 'does the sig sauer p226 have a safety', 'answer': False}, {'question': \"is the handmaid's tale a hulu original\", 'answer': True}, {'question': 'is the movie morning glory based on a true story', 'answer': False}, {'question': 'does each australian state have its own constitution', 'answer': True}, {'question': 'will there be any more seasons of the paradise', 'answer': False}, {'question': 'was the bill of rights added to the constitution', 'answer': True}]\n"
     ]
    }
   ],
   "source": [
    "with open('./boolq.jsonl', 'r') as boolq:\n",
    "    json_list = list(boolq)\n",
    "\n",
    "example_list = []\n",
    "for _ in range(1000):\n",
    "    random_choice = json.loads(random.choice(json_list))\n",
    "    selected_pairs = {key: random_choice[key] for key in ['question', 'answer']}\n",
    "    example_list.append(dict(selected_pairs))\n",
    "    \n",
    "prompt_list = []\n",
    "count = 0\n",
    "i = 0\n",
    "get_true = True\n",
    "while count <= 30 and i < 1000:\n",
    "    example = example_list[i]\n",
    "    example_ans = example['answer']\n",
    "    if get_true == example_ans: \n",
    "        prompt_list.append(example)\n",
    "        get_true = not get_true\n",
    "        count += 1\n",
    "    else: \n",
    "        i += 1\n",
    "\n",
    "count = 0\n",
    "for i in prompt_list:\n",
    "    if i['answer'] == False:\n",
    "        count += 1\n",
    "print(count)\n",
    "\n",
    "print(prompt_list)"
   ]
  }
 ],
 "metadata": {
  "kernelspec": {
   "display_name": "base",
   "language": "python",
   "name": "python3"
  },
  "language_info": {
   "codemirror_mode": {
    "name": "ipython",
    "version": 3
   },
   "file_extension": ".py",
   "mimetype": "text/x-python",
   "name": "python",
   "nbconvert_exporter": "python",
   "pygments_lexer": "ipython3",
   "version": "3.11.5"
  }
 },
 "nbformat": 4,
 "nbformat_minor": 2
}
